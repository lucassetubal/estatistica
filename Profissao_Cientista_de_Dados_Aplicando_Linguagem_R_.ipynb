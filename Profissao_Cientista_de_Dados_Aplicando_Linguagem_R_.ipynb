{
  "nbformat": 4,
  "nbformat_minor": 0,
  "metadata": {
    "colab": {
      "provenance": []
    },
    "kernelspec": {
      "name": "ir",
      "display_name": "R"
    },
    "language_info": {
      "name": "R"
    }
  },
  "cells": [
    {
      "cell_type": "markdown",
      "source": [
        "# **MÓDULO 13 - AULA 4**\n",
        "# Estatística Básica: Aplicando Conceitos com Python"
      ],
      "metadata": {
        "id": "gJ_44K3vWDQg"
      }
    },
    {
      "cell_type": "markdown",
      "source": [
        " R é uma linguagem de programação e ambiente de software desenvolvido especificamente para análise estatística e visualização de dados. Ele fornece uma ampla variedade de ferramentas e pacotes estatísticos que tornam mais fácil para os usuários realizar uma variedade de tarefas, desde análises simples até projetos de modelagem de dados mais complexos.\n",
        " Não é tão requisitada no mercado quanto o Python mas aprenderemos a aplicar funções básicas de estatística com R."
      ],
      "metadata": {
        "id": "21Uj51YUWGbX"
      }
    },
    {
      "cell_type": "markdown",
      "source": [
        "Abram o link do colab para execucar os códigos usando esse link:\n",
        "https://colab.research.google.com/#create=true&language=r"
      ],
      "metadata": {
        "id": "dh9Hd4bXjQsh"
      }
    },
    {
      "cell_type": "code",
      "source": [
        "# Instalar o pacote 'readr' necessário para leitura de arquivos CSV\n",
        "install.packages(\"readr\")\n",
        "# Instalar o pacote 'readxl' necessário para leitura de arquivos Excel\n",
        "install.packages(\"readxl\")"
      ],
      "metadata": {
        "colab": {
          "base_uri": "https://localhost:8080/"
        },
        "id": "X-rM27PmWcwB",
        "outputId": "2994958e-fd3f-45e1-b060-722f469707fd"
      },
      "execution_count": null,
      "outputs": [
        {
          "output_type": "stream",
          "name": "stderr",
          "text": [
            "Installing package into ‘/usr/local/lib/R/site-library’\n",
            "(as ‘lib’ is unspecified)\n",
            "\n",
            "Installing package into ‘/usr/local/lib/R/site-library’\n",
            "(as ‘lib’ is unspecified)\n",
            "\n"
          ]
        }
      ]
    },
    {
      "cell_type": "code",
      "source": [
        "# Carregando os pacotes instalados\n",
        "library(readr)\n",
        "library(readxl)"
      ],
      "metadata": {
        "id": "oegqdDJfWh6X"
      },
      "execution_count": null,
      "outputs": []
    },
    {
      "cell_type": "code",
      "source": [
        "# Ler o arquivo CSV com a função read.csv()\n",
        "dados <- read.csv(\"ESPORTISTAS_MOD7.csv\", sep = \";\")\n",
        "\n",
        "# Visualizar os dados, muito semelhante ao python\n",
        "head(dados)"
      ],
      "metadata": {
        "colab": {
          "base_uri": "https://localhost:8080/",
          "height": 286
        },
        "id": "Zjq1NfPGWRYm",
        "outputId": "1f2744e5-ebe6-4f19-9bd9-95850d426145"
      },
      "execution_count": null,
      "outputs": [
        {
          "output_type": "display_data",
          "data": {
            "text/html": [
              "<table class=\"dataframe\">\n",
              "<caption>A data.frame: 6 × 3</caption>\n",
              "<thead>\n",
              "\t<tr><th></th><th scope=col>Atleta</th><th scope=col>Esporte</th><th scope=col>Ganhos_Totais</th></tr>\n",
              "\t<tr><th></th><th scope=col>&lt;chr&gt;</th><th scope=col>&lt;chr&gt;</th><th scope=col>&lt;int&gt;</th></tr>\n",
              "</thead>\n",
              "<tbody>\n",
              "\t<tr><th scope=row>1</th><td>Lionel Messi     </td><td>Futebol </td><td>639</td></tr>\n",
              "\t<tr><th scope=row>2</th><td>Lebron James     </td><td>Basquete</td><td>595</td></tr>\n",
              "\t<tr><th scope=row>3</th><td>Cristiano Ronaldo</td><td>Futebol </td><td>565</td></tr>\n",
              "\t<tr><th scope=row>4</th><td>Neymar Jr        </td><td>Futebol </td><td>467</td></tr>\n",
              "\t<tr><th scope=row>5</th><td>Stephen Curry    </td><td>Basquete</td><td>452</td></tr>\n",
              "\t<tr><th scope=row>6</th><td>Kevin Duart      </td><td>Basquete</td><td>452</td></tr>\n",
              "</tbody>\n",
              "</table>\n"
            ],
            "text/markdown": "\nA data.frame: 6 × 3\n\n| <!--/--> | Atleta &lt;chr&gt; | Esporte &lt;chr&gt; | Ganhos_Totais &lt;int&gt; |\n|---|---|---|---|\n| 1 | Lionel Messi      | Futebol  | 639 |\n| 2 | Lebron James      | Basquete | 595 |\n| 3 | Cristiano Ronaldo | Futebol  | 565 |\n| 4 | Neymar Jr         | Futebol  | 467 |\n| 5 | Stephen Curry     | Basquete | 452 |\n| 6 | Kevin Duart       | Basquete | 452 |\n\n",
            "text/latex": "A data.frame: 6 × 3\n\\begin{tabular}{r|lll}\n  & Atleta & Esporte & Ganhos\\_Totais\\\\\n  & <chr> & <chr> & <int>\\\\\n\\hline\n\t1 & Lionel Messi      & Futebol  & 639\\\\\n\t2 & Lebron James      & Basquete & 595\\\\\n\t3 & Cristiano Ronaldo & Futebol  & 565\\\\\n\t4 & Neymar Jr         & Futebol  & 467\\\\\n\t5 & Stephen Curry     & Basquete & 452\\\\\n\t6 & Kevin Duart       & Basquete & 452\\\\\n\\end{tabular}\n",
            "text/plain": [
              "  Atleta            Esporte  Ganhos_Totais\n",
              "1 Lionel Messi      Futebol  639          \n",
              "2 Lebron James      Basquete 595          \n",
              "3 Cristiano Ronaldo Futebol  565          \n",
              "4 Neymar Jr         Futebol  467          \n",
              "5 Stephen Curry     Basquete 452          \n",
              "6 Kevin Duart       Basquete 452          "
            ]
          },
          "metadata": {}
        }
      ]
    },
    {
      "cell_type": "markdown",
      "source": [
        "# Aplicando os conceitos de estatística:"
      ],
      "metadata": {
        "id": "5pjJdh9Lf3PA"
      }
    },
    {
      "cell_type": "markdown",
      "source": [
        "# 1 - MÉDIA"
      ],
      "metadata": {
        "id": "EhpubGXugBSa"
      }
    },
    {
      "cell_type": "markdown",
      "source": [
        "Realizaremos os mesmos cálculos da aula de python porém utilizando a linguagem R.\n"
      ],
      "metadata": {
        "id": "VY_YWgJOgCUi"
      }
    },
    {
      "cell_type": "code",
      "source": [
        "mean(dados$Ganhos_Totais)\n",
        "# O operador $ é usado para acessar uma coluna específica em um dataframe. Aqui também usamos a função chamada mean"
      ],
      "metadata": {
        "colab": {
          "base_uri": "https://localhost:8080/",
          "height": 34
        },
        "id": "L5Gb2Z66gSQB",
        "outputId": "47a66f2a-ce1a-4019-eac0-e053c1f10014"
      },
      "execution_count": null,
      "outputs": [
        {
          "output_type": "display_data",
          "data": {
            "text/html": [
              "377"
            ],
            "text/markdown": "377",
            "text/latex": "377",
            "text/plain": [
              "[1] 377"
            ]
          },
          "metadata": {}
        }
      ]
    },
    {
      "cell_type": "markdown",
      "source": [
        "Agora faremos a mesma operação porém agrupando por esporte:\n"
      ],
      "metadata": {
        "id": "P5glZzsYgh-5"
      }
    },
    {
      "cell_type": "code",
      "source": [
        "aggregate(Ganhos_Totais ~ Esporte, data = dados, FUN = mean)\n",
        "# No python usamos o groupby, para o R iremos usar aggregate\n",
        "#  ~ especifica que queremos agrupar os dados por esporte e calcular a média dos ganhos totais para cada grupo\n",
        "# FUN = mean especifica que queremos calcular a média dos valores em cada grupo\n"
      ],
      "metadata": {
        "colab": {
          "base_uri": "https://localhost:8080/",
          "height": 349
        },
        "id": "0pi4me1tgmaz",
        "outputId": "1ce2e2e0-07e0-48e2-c9cd-318e3158abda"
      },
      "execution_count": null,
      "outputs": [
        {
          "output_type": "display_data",
          "data": {
            "text/html": [
              "<table class=\"dataframe\">\n",
              "<caption>A data.frame: 8 × 2</caption>\n",
              "<thead>\n",
              "\t<tr><th scope=col>Esporte</th><th scope=col>Ganhos_Totais</th></tr>\n",
              "\t<tr><th scope=col>&lt;chr&gt;</th><th scope=col>&lt;dbl&gt;</th></tr>\n",
              "</thead>\n",
              "<tbody>\n",
              "\t<tr><td>Automobilismo    </td><td>319.0</td></tr>\n",
              "\t<tr><td>Basquete         </td><td>400.5</td></tr>\n",
              "\t<tr><td>Beisebol         </td><td>241.0</td></tr>\n",
              "\t<tr><td>Boxe             </td><td>373.5</td></tr>\n",
              "\t<tr><td>Futebol          </td><td>557.0</td></tr>\n",
              "\t<tr><td>Futebol Americano</td><td>311.0</td></tr>\n",
              "\t<tr><td>Golfe            </td><td>334.0</td></tr>\n",
              "\t<tr><td>Tenis            </td><td>366.0</td></tr>\n",
              "</tbody>\n",
              "</table>\n"
            ],
            "text/markdown": "\nA data.frame: 8 × 2\n\n| Esporte &lt;chr&gt; | Ganhos_Totais &lt;dbl&gt; |\n|---|---|\n| Automobilismo     | 319.0 |\n| Basquete          | 400.5 |\n| Beisebol          | 241.0 |\n| Boxe              | 373.5 |\n| Futebol           | 557.0 |\n| Futebol Americano | 311.0 |\n| Golfe             | 334.0 |\n| Tenis             | 366.0 |\n\n",
            "text/latex": "A data.frame: 8 × 2\n\\begin{tabular}{ll}\n Esporte & Ganhos\\_Totais\\\\\n <chr> & <dbl>\\\\\n\\hline\n\t Automobilismo     & 319.0\\\\\n\t Basquete          & 400.5\\\\\n\t Beisebol          & 241.0\\\\\n\t Boxe              & 373.5\\\\\n\t Futebol           & 557.0\\\\\n\t Futebol Americano & 311.0\\\\\n\t Golfe             & 334.0\\\\\n\t Tenis             & 366.0\\\\\n\\end{tabular}\n",
            "text/plain": [
              "  Esporte           Ganhos_Totais\n",
              "1 Automobilismo     319.0        \n",
              "2 Basquete          400.5        \n",
              "3 Beisebol          241.0        \n",
              "4 Boxe              373.5        \n",
              "5 Futebol           557.0        \n",
              "6 Futebol Americano 311.0        \n",
              "7 Golfe             334.0        \n",
              "8 Tenis             366.0        "
            ]
          },
          "metadata": {}
        }
      ]
    },
    {
      "cell_type": "markdown",
      "source": [
        "chr é uma abreviação para \"character\" e dbl significa que essa coluna contém valores numéricos, geralmente números reais.\n",
        "\n"
      ],
      "metadata": {
        "id": "baontuw1hQcU"
      }
    },
    {
      "cell_type": "markdown",
      "source": [
        "# 2 - MEDIANA"
      ],
      "metadata": {
        "id": "0EwHmqNqhf75"
      }
    },
    {
      "cell_type": "markdown",
      "source": [
        "Assim como no Python usamos o median para a mediana."
      ],
      "metadata": {
        "id": "6ekkt9XqhrMq"
      }
    },
    {
      "cell_type": "code",
      "source": [
        "median(dados$Ganhos_Totais)"
      ],
      "metadata": {
        "colab": {
          "base_uri": "https://localhost:8080/",
          "height": 34
        },
        "id": "6xBHLr-DhnKD",
        "outputId": "b8b588ea-7e22-41c9-839a-7838fd22b7dd"
      },
      "execution_count": null,
      "outputs": [
        {
          "output_type": "display_data",
          "data": {
            "text/html": [
              "354"
            ],
            "text/markdown": "354",
            "text/latex": "354",
            "text/plain": [
              "[1] 354"
            ]
          },
          "metadata": {}
        }
      ]
    },
    {
      "cell_type": "markdown",
      "source": [
        "Agora realizando o agrupamento para trazer a mediana, o código é o mesmo, apenas alteramos o nome da função estatistica aplicada."
      ],
      "metadata": {
        "id": "Or-oJTmjhv0D"
      }
    },
    {
      "cell_type": "code",
      "source": [
        "aggregate(Ganhos_Totais ~ Esporte, data = dados, FUN = median)"
      ],
      "metadata": {
        "colab": {
          "base_uri": "https://localhost:8080/",
          "height": 349
        },
        "id": "T9t_2WoTh256",
        "outputId": "c1c9874d-a60e-4fae-9a2d-5638e62d9f73"
      },
      "execution_count": null,
      "outputs": [
        {
          "output_type": "display_data",
          "data": {
            "text/html": [
              "<table class=\"dataframe\">\n",
              "<caption>A data.frame: 8 × 2</caption>\n",
              "<thead>\n",
              "\t<tr><th scope=col>Esporte</th><th scope=col>Ganhos_Totais</th></tr>\n",
              "\t<tr><th scope=col>&lt;chr&gt;</th><th scope=col>&lt;dbl&gt;</th></tr>\n",
              "</thead>\n",
              "<tbody>\n",
              "\t<tr><td>Automobilismo    </td><td>319.0</td></tr>\n",
              "\t<tr><td>Basquete         </td><td>392.5</td></tr>\n",
              "\t<tr><td>Beisebol         </td><td>241.0</td></tr>\n",
              "\t<tr><td>Boxe             </td><td>373.5</td></tr>\n",
              "\t<tr><td>Futebol          </td><td>565.0</td></tr>\n",
              "\t<tr><td>Futebol Americano</td><td>329.0</td></tr>\n",
              "\t<tr><td>Golfe            </td><td>334.0</td></tr>\n",
              "\t<tr><td>Tenis            </td><td>366.0</td></tr>\n",
              "</tbody>\n",
              "</table>\n"
            ],
            "text/markdown": "\nA data.frame: 8 × 2\n\n| Esporte &lt;chr&gt; | Ganhos_Totais &lt;dbl&gt; |\n|---|---|\n| Automobilismo     | 319.0 |\n| Basquete          | 392.5 |\n| Beisebol          | 241.0 |\n| Boxe              | 373.5 |\n| Futebol           | 565.0 |\n| Futebol Americano | 329.0 |\n| Golfe             | 334.0 |\n| Tenis             | 366.0 |\n\n",
            "text/latex": "A data.frame: 8 × 2\n\\begin{tabular}{ll}\n Esporte & Ganhos\\_Totais\\\\\n <chr> & <dbl>\\\\\n\\hline\n\t Automobilismo     & 319.0\\\\\n\t Basquete          & 392.5\\\\\n\t Beisebol          & 241.0\\\\\n\t Boxe              & 373.5\\\\\n\t Futebol           & 565.0\\\\\n\t Futebol Americano & 329.0\\\\\n\t Golfe             & 334.0\\\\\n\t Tenis             & 366.0\\\\\n\\end{tabular}\n",
            "text/plain": [
              "  Esporte           Ganhos_Totais\n",
              "1 Automobilismo     319.0        \n",
              "2 Basquete          392.5        \n",
              "3 Beisebol          241.0        \n",
              "4 Boxe              373.5        \n",
              "5 Futebol           565.0        \n",
              "6 Futebol Americano 329.0        \n",
              "7 Golfe             334.0        \n",
              "8 Tenis             366.0        "
            ]
          },
          "metadata": {}
        }
      ]
    },
    {
      "cell_type": "markdown",
      "source": [
        "# 3 - MODA"
      ],
      "metadata": {
        "id": "w20kLsPRh-HL"
      }
    },
    {
      "cell_type": "markdown",
      "source": [
        "Diferente do python que temos uma função especifica na biblioteca, no R não temos essa função para a moda, então iremos realizar uma lógica para encontrar a moda."
      ],
      "metadata": {
        "id": "2bihvYiMiI2A"
      }
    },
    {
      "cell_type": "code",
      "source": [
        "calcular_moda <- function(x) {\n",
        "# Calcular_moda() é uma função personalizada, assim como as que criamos no python\n",
        "  unique_x <- unique(x)\n",
        "  contagem <- tabulate(match(x, unique_x))\n",
        "  moda <- unique_x[which.max(contagem)]\n",
        "# unique() para obter os valores únicos do vetor,\n",
        "# tabulate() para contar a frequência de cada valor\n",
        "# which.max() para encontrar o índice do valor com a frequência máxima.\n",
        "  return(moda)\n",
        "}\n",
        "\n",
        "# Calcular a moda da coluna \"Gastos_Totais\"\n",
        "calcular_moda(dados$Ganhos_Totais)\n",
        "\n"
      ],
      "metadata": {
        "colab": {
          "base_uri": "https://localhost:8080/",
          "height": 34
        },
        "id": "YA6pv4qciR9b",
        "outputId": "9c027054-af42-436d-b553-ce841b70f032"
      },
      "execution_count": null,
      "outputs": [
        {
          "output_type": "display_data",
          "data": {
            "text/html": [
              "452"
            ],
            "text/markdown": "452",
            "text/latex": "452",
            "text/plain": [
              "[1] 452"
            ]
          },
          "metadata": {}
        }
      ]
    },
    {
      "cell_type": "markdown",
      "source": [
        "# 4 - DESVIO PADRÃO"
      ],
      "metadata": {
        "id": "-9w4pCaCis1Q"
      }
    },
    {
      "cell_type": "markdown",
      "source": [
        "Para cálculo do desvio padrão contamos com a função  std como no python, para aplicar é simples e segue a mesma lógica:"
      ],
      "metadata": {
        "id": "F_RsM48Ki5K9"
      }
    },
    {
      "cell_type": "code",
      "source": [
        "aggregate(Ganhos_Totais ~ Esporte, data = dados, FUN = sd)"
      ],
      "metadata": {
        "colab": {
          "base_uri": "https://localhost:8080/",
          "height": 349
        },
        "id": "jnBCvDUXjFIz",
        "outputId": "92078ef9-7b62-4a16-a451-1ad2749d7211"
      },
      "execution_count": null,
      "outputs": [
        {
          "output_type": "display_data",
          "data": {
            "text/html": [
              "<table class=\"dataframe\">\n",
              "<caption>A data.frame: 8 × 2</caption>\n",
              "<thead>\n",
              "\t<tr><th scope=col>Esporte</th><th scope=col>Ganhos_Totais</th></tr>\n",
              "\t<tr><th scope=col>&lt;chr&gt;</th><th scope=col>&lt;dbl&gt;</th></tr>\n",
              "</thead>\n",
              "<tbody>\n",
              "\t<tr><td>Automobilismo    </td><td>       NA</td></tr>\n",
              "\t<tr><td>Basquete         </td><td>103.41456</td></tr>\n",
              "\t<tr><td>Beisebol         </td><td>       NA</td></tr>\n",
              "\t<tr><td>Boxe             </td><td> 96.87363</td></tr>\n",
              "\t<tr><td>Futebol          </td><td> 86.27862</td></tr>\n",
              "\t<tr><td>Futebol Americano</td><td> 62.96030</td></tr>\n",
              "\t<tr><td>Golfe            </td><td>       NA</td></tr>\n",
              "\t<tr><td>Tenis            </td><td>107.48023</td></tr>\n",
              "</tbody>\n",
              "</table>\n"
            ],
            "text/markdown": "\nA data.frame: 8 × 2\n\n| Esporte &lt;chr&gt; | Ganhos_Totais &lt;dbl&gt; |\n|---|---|\n| Automobilismo     |        NA |\n| Basquete          | 103.41456 |\n| Beisebol          |        NA |\n| Boxe              |  96.87363 |\n| Futebol           |  86.27862 |\n| Futebol Americano |  62.96030 |\n| Golfe             |        NA |\n| Tenis             | 107.48023 |\n\n",
            "text/latex": "A data.frame: 8 × 2\n\\begin{tabular}{ll}\n Esporte & Ganhos\\_Totais\\\\\n <chr> & <dbl>\\\\\n\\hline\n\t Automobilismo     &        NA\\\\\n\t Basquete          & 103.41456\\\\\n\t Beisebol          &        NA\\\\\n\t Boxe              &  96.87363\\\\\n\t Futebol           &  86.27862\\\\\n\t Futebol Americano &  62.96030\\\\\n\t Golfe             &        NA\\\\\n\t Tenis             & 107.48023\\\\\n\\end{tabular}\n",
            "text/plain": [
              "  Esporte           Ganhos_Totais\n",
              "1 Automobilismo            NA    \n",
              "2 Basquete          103.41456    \n",
              "3 Beisebol                 NA    \n",
              "4 Boxe               96.87363    \n",
              "5 Futebol            86.27862    \n",
              "6 Futebol Americano  62.96030    \n",
              "7 Golfe                    NA    \n",
              "8 Tenis             107.48023    "
            ]
          },
          "metadata": {}
        }
      ]
    }
  ]
}